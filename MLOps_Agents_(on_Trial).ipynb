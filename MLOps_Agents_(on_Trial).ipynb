{
  "nbformat": 4,
  "nbformat_minor": 0,
  "metadata": {
    "colab": {
      "name": "MLOps Agents (on Trial).ipynb",
      "provenance": [],
      "collapsed_sections": [],
      "authorship_tag": "ABX9TyN5ChGDl/DSlSyn4jFwmlzE",
      "include_colab_link": true
    },
    "kernelspec": {
      "name": "python3",
      "display_name": "Python 3"
    },
    "language_info": {
      "name": "python"
    }
  },
  "cells": [
    {
      "cell_type": "markdown",
      "metadata": {
        "id": "view-in-github",
        "colab_type": "text"
      },
      "source": [
        "<a href=\"https://colab.research.google.com/github/timsetsfire/agents-on-colab/blob/main/MLOps_Agents_(on_Trial).ipynb\" target=\"_parent\"><img src=\"https://colab.research.google.com/assets/colab-badge.svg\" alt=\"Open In Colab\"/></a>"
      ]
    },
    {
      "cell_type": "markdown",
      "metadata": {
        "id": "CZk4BtP8Zi2l"
      },
      "source": [
        "## MLOps Agent\n",
        "\n",
        "## The scope of this Notebook is to provide instructions on how to use DataRobot's MLOps Agents."
      ]
    },
    {
      "cell_type": "markdown",
      "metadata": {
        "id": "QecgVDGljAZj"
      },
      "source": [
        "\n",
        "resources:\n",
        "\n",
        "* Agents webinar: https://community.datarobot.com/t5/learning-sessions/monitoring-all-your-models-with-datarobot-agents/ba-p/7732\n",
        "* Working with Remote Models: https://community.datarobot.com/t5/resources/working-with-remote-models/ta-p/7517\n",
        "* Deploy in SageMaker and Monitor with MLOps Agents: https://community.datarobot.com/t5/resources/deploy-in-sagemaker-and-monitor-with-mlops-agents/ta-p/5771\n"
      ]
    },
    {
      "cell_type": "code",
      "metadata": {
        "colab": {
          "base_uri": "https://localhost:8080/"
        },
        "id": "uyBkg4g_a2rH",
        "outputId": "12037f47-f840-4488-b40c-52c6da54910e"
      },
      "source": [
        "%%sh\n",
        "git clone https://github.com/timsetsfire/agents-plus-challengers.git"
      ],
      "execution_count": 1,
      "outputs": [
        {
          "output_type": "stream",
          "name": "stderr",
          "text": [
            "Cloning into 'agents-plus-challengers'...\n"
          ]
        }
      ]
    },
    {
      "cell_type": "code",
      "metadata": {
        "id": "TgPJbMlmbfkU"
      },
      "source": [
        "%%sh\n",
        "pip install -r /content/agents-plus-challengers/remote-model/requirements.txt -q\n",
        "pip install datarobot urllib3==1.26.4 -U -q\n",
        "pip install datarobot-mlops -q\n",
        "pip install datarobot-mlops-connected-client -q"
      ],
      "execution_count": 13,
      "outputs": []
    },
    {
      "cell_type": "code",
      "metadata": {
        "id": "2tOtjmN0i9jG"
      },
      "source": [
        "import pandas as pd\n",
        "import bson\n",
        "import time\n",
        "import sys\n",
        "import pprint\n",
        "import os\n",
        "import datarobot as dr\n",
        "import yaml\n",
        "import subprocess \n",
        "import urllib3\n",
        "import requests\n",
        "import json\n",
        "import bson\n",
        "sys.path.append(\"/content/agents-plus-challengers/remote-model\")"
      ],
      "execution_count": 3,
      "outputs": []
    },
    {
      "cell_type": "code",
      "metadata": {
        "id": "99YNqDIGgyK9"
      },
      "source": [
        "df = pd.read_csv(\n",
        "    \"/content/agents-plus-challengers/data/DR_Demo_SCMS.csv\"\n",
        "    ).sample(frac=0.3)\n",
        "target = \"Late_delivery\"\n",
        "df[target].describe()\n",
        "\n",
        "df[\"AssociationID\"] = 1\n",
        "df[\"AssociationID\"] = df[\"AssociationID\"].apply(lambda x: str(bson.ObjectId()))\n",
        "\n",
        "sampled_df = df.sample(frac = 0.20)"
      ],
      "execution_count": 4,
      "outputs": []
    },
    {
      "cell_type": "markdown",
      "metadata": {
        "id": "4DzIoMms6aa8"
      },
      "source": [
        "## Grab agents tarball from DataRobot"
      ]
    },
    {
      "cell_type": "code",
      "metadata": {
        "colab": {
          "base_uri": "https://localhost:8080/"
        },
        "id": "016T8LZMlI2T",
        "outputId": "9517d97b-9857-4f65-deb7-df326a556183"
      },
      "source": [
        "token = \"token\"\n",
        "endpoint = \"https://app2.datarobot.com\"\n",
        "## connect to DataRobot platform with datarobot python client. \n",
        "client = dr.Client(token, \"{}/api/v2\".format(endpoint))\n",
        "## grab mlops agents tarball\n",
        "mlops_agents_tb = client.get(\"mlopsInstaller\")\n",
        "with open(\"/content/mlops-agent.tar.gz\", \"wb\") as f:\n",
        "    f.write(mlops_agents_tb.content)\n",
        "## unpack tarball\n",
        "os.system(\"tar -xf /content/mlops-agent.tar.gz -C . && mkdir -p /tmp/ta\")"
      ],
      "execution_count": 5,
      "outputs": [
        {
          "output_type": "execute_result",
          "data": {
            "text/plain": [
              "0"
            ]
          },
          "metadata": {},
          "execution_count": 5
        }
      ]
    },
    {
      "cell_type": "markdown",
      "metadata": {
        "id": "fjld3Tm06fm4"
      },
      "source": [
        "## Agents Framework\n",
        "\n",
        "1. Scoring pipeline - used to score data\n",
        "2. Python MLOps library - used to relay data to a buffer.  Buffer could be any of \n",
        "  * file system - used in this example\n",
        "  * pubsub\n",
        "  * kafka\n",
        "  * sqs\n",
        "  * rabbit\n",
        "2. Tracking Agents (light weight java service) - monitors the buffer and relays data to DR MLOps\n"
      ]
    },
    {
      "cell_type": "markdown",
      "metadata": {
        "id": "G2CNa8Zb6t-s"
      },
      "source": [
        "### Configure Tracking Agents\n",
        "\n",
        "Very vanilla configuration\n",
        "\n",
        "\n",
        "Using File system as a buffer"
      ]
    },
    {
      "cell_type": "code",
      "metadata": {
        "colab": {
          "base_uri": "https://localhost:8080/"
        },
        "id": "P7zCFQG6j3z1",
        "outputId": "91bec451-0705-4399-f9cd-0c518e5e008b"
      },
      "source": [
        "import glob\n",
        "agents_dir = glob.glob(\"/content/datarobot_mlops*\").pop()\n",
        "print(agents_dir)\n",
        "with open('{}/conf/mlops.agent.conf.yaml'.format(agents_dir)) as file:\n",
        "    documents = yaml.load(file)\n",
        "## configure the loaction of the mlops instance with which we'll communcate\n",
        "documents['mlopsUrl'] = endpoint\n",
        "# Set your API token\n",
        "documents['apiToken'] = token\n",
        "## write the configuration back to disk\n",
        "with open('{}/conf/mlops.agent.conf.yaml'.format(agents_dir), \"w\") as f:\n",
        "    yaml.dump(documents, f)\n",
        "## start the tracking agents service\n",
        "subprocess.call(\"{}/bin/start-agent.sh\".format(agents_dir))\n",
        "## check status of agents service\n",
        "check = subprocess.Popen([\"{}/bin/status-agent.sh\".format(agents_dir)], stdout=subprocess.PIPE)\n",
        "print(check.stdout.readlines())\n",
        "check.terminate()"
      ],
      "execution_count": 6,
      "outputs": [
        {
          "output_type": "stream",
          "name": "stdout",
          "text": [
            "/content/datarobot_mlops_package-8.0.3\n",
            "[b'DataRobot MLOps-Agent is running as a service.\\n']\n"
          ]
        }
      ]
    },
    {
      "cell_type": "code",
      "source": [
        "os.system('pip install {}/lib/datarobot_mlops-*.whl'.format(agents_dir))"
      ],
      "metadata": {
        "colab": {
          "base_uri": "https://localhost:8080/"
        },
        "id": "R6C9CKebgZSx",
        "outputId": "49c1bd0d-6899-4279-a7b1-52368a4e9055"
      },
      "execution_count": 11,
      "outputs": [
        {
          "output_type": "execute_result",
          "data": {
            "text/plain": [
              "0"
            ]
          },
          "metadata": {},
          "execution_count": 11
        }
      ]
    },
    {
      "cell_type": "markdown",
      "metadata": {
        "id": "l34rncIUbcaE"
      },
      "source": [
        "## Upload Training Data"
      ]
    },
    {
      "cell_type": "code",
      "metadata": {
        "colab": {
          "base_uri": "https://localhost:8080/"
        },
        "id": "qm_PedqLwO68",
        "outputId": "8cb945c3-7d4e-4dd9-fd60-97a8285fb640"
      },
      "source": [
        "print(\"Uploading training data. This may take some time...\")\n",
        "training_data = dr.Dataset.create_from_in_memory_data(df.drop([\"AssociationID\"], axis=1))"
      ],
      "execution_count": 7,
      "outputs": [
        {
          "output_type": "stream",
          "name": "stdout",
          "text": [
            "Uploading training data. This may take some time...\n"
          ]
        }
      ]
    },
    {
      "cell_type": "markdown",
      "source": [
        "## Register Model, and Enable Monitoring with DataRobot MLOps"
      ],
      "metadata": {
        "id": "3RUMrYEfWiXA"
      }
    },
    {
      "cell_type": "code",
      "metadata": {
        "colab": {
          "base_uri": "https://localhost:8080/"
        },
        "id": "jQhsAEr1fK2e",
        "outputId": "b0032125-c5b2-4dd0-8e6e-073318dd8150"
      },
      "source": [
        "from datarobot.mlops.mlops import MLOps\n",
        "from datarobot.mlops.connected.client import MLOpsClient\n",
        "\n",
        "\n",
        "model_info = {\n",
        "              \"name\": \"Late shipment model\",\n",
        "              \"modelDescription\": {\n",
        "                \"description\": \"Binary classification on late shipment dataset\",\n",
        "                \"location\": \"colab\"\n",
        "              },\n",
        "              \"target\": {\n",
        "                 \"type\": \"Binary\",\n",
        "                 \"name\": \"Late_delivery\",\n",
        "                 \"classNames\": [\"1\",\"0\"],  # minority/positive class should be listed first\n",
        "                 \"predictionThreshold\": 0.5\n",
        "                }\n",
        "            }\n",
        "\n",
        "DEPLOYMENT_NAME=\"Google Colab - Python binary classificationnew\"\n",
        "\n",
        "model_info[\"datasets\"] = {\"trainingDataCatalogId\": training_data.id}\n",
        "\n",
        "\n",
        "# Create connected client\n",
        "mlops_connected_client = MLOpsClient(endpoint, token)\n",
        "# Create the model package\n",
        "print('Create model package')\n",
        "model_pkg_id = mlops_connected_client.create_model_package(model_info)\n",
        "model_pkg = mlops_connected_client.get_model_package(model_pkg_id)\n",
        "model_id = model_pkg[\"modelId\"]\n",
        "# Deploy the model package\n",
        "print('Deploy model package')\n",
        "deployment_id = mlops_connected_client.deploy_model_package(model_pkg[\"id\"], label = DEPLOYMENT_NAME)"
      ],
      "execution_count": 15,
      "outputs": [
        {
          "output_type": "stream",
          "name": "stdout",
          "text": [
            "Create model package\n",
            "Deploy model package\n"
          ]
        }
      ]
    },
    {
      "cell_type": "markdown",
      "metadata": {
        "id": "UQPrA0lC0D2g"
      },
      "source": [
        "## Update Drift Tracking"
      ]
    },
    {
      "cell_type": "code",
      "metadata": {
        "id": "LfFdv76vvKdu"
      },
      "source": [
        "deployment = dr.Deployment.get(deployment_id)\n",
        "deployment.update_drift_tracking_settings(target_drift_enabled=True, feature_drift_enabled=True)"
      ],
      "execution_count": 16,
      "outputs": []
    },
    {
      "cell_type": "markdown",
      "metadata": {
        "id": "0HXCAteX0Ipn"
      },
      "source": [
        "## Update accuracy tracking"
      ]
    },
    {
      "cell_type": "code",
      "metadata": {
        "id": "u2uInvY90GVl"
      },
      "source": [
        "deployment.update_association_id_settings(column_names = [\"AssociationID\"], required_in_prediction_requests=False)"
      ],
      "execution_count": 17,
      "outputs": []
    },
    {
      "cell_type": "markdown",
      "metadata": {
        "id": "a_gsp-cG0uJp"
      },
      "source": [
        "## Review deployment detail"
      ]
    },
    {
      "cell_type": "code",
      "metadata": {
        "id": "88wlHkCy7FI1",
        "colab": {
          "base_uri": "https://localhost:8080/",
          "height": 269
        },
        "outputId": "f52269bc-7533-4512-aac7-847498c46885"
      },
      "source": [
        "DEPLOYMENT_ID = deployment.id\n",
        "MODEL_ID = deployment.model[\"id\"]\n",
        "\n",
        "deployment_details = client.get(f\"deployments/{deployment.id}\").json()\n",
        "\n",
        "deployment_details_df = pd.DataFrame({\"model name\": deployment_details[\"label\"],\n",
        " \"model description\": deployment_details[\"description\"],\n",
        " \"create date\": deployment_details[\"createdAt\"],\n",
        " \"deployment id\": deployment_details[\"id\"], \n",
        " \"approval status\": deployment_details[\"approvalStatus\"], \n",
        " \"importance\": deployment_details[\"importance\"],\n",
        " \"owners\": deployment_details[\"owners\"]}).T\n",
        " \n",
        "deployment_details_df[[\"preview\"]]"
      ],
      "execution_count": 18,
      "outputs": [
        {
          "output_type": "execute_result",
          "data": {
            "text/html": [
              "<div>\n",
              "<style scoped>\n",
              "    .dataframe tbody tr th:only-of-type {\n",
              "        vertical-align: middle;\n",
              "    }\n",
              "\n",
              "    .dataframe tbody tr th {\n",
              "        vertical-align: top;\n",
              "    }\n",
              "\n",
              "    .dataframe thead th {\n",
              "        text-align: right;\n",
              "    }\n",
              "</style>\n",
              "<table border=\"1\" class=\"dataframe\">\n",
              "  <thead>\n",
              "    <tr style=\"text-align: right;\">\n",
              "      <th></th>\n",
              "      <th>preview</th>\n",
              "    </tr>\n",
              "  </thead>\n",
              "  <tbody>\n",
              "    <tr>\n",
              "      <th>model name</th>\n",
              "      <td>Google Colab - Python binary classificationnew</td>\n",
              "    </tr>\n",
              "    <tr>\n",
              "      <th>model description</th>\n",
              "      <td></td>\n",
              "    </tr>\n",
              "    <tr>\n",
              "      <th>create date</th>\n",
              "      <td>2021-12-15T14:33:30.306000Z</td>\n",
              "    </tr>\n",
              "    <tr>\n",
              "      <th>deployment id</th>\n",
              "      <td>61b9fcba9c4f384b9cf4f5b9</td>\n",
              "    </tr>\n",
              "    <tr>\n",
              "      <th>approval status</th>\n",
              "      <td>APPROVED</td>\n",
              "    </tr>\n",
              "    <tr>\n",
              "      <th>importance</th>\n",
              "      <td>None</td>\n",
              "    </tr>\n",
              "    <tr>\n",
              "      <th>owners</th>\n",
              "      <td>[{'id': '5f6b61165c439d2e6e6d10c3', 'firstName...</td>\n",
              "    </tr>\n",
              "  </tbody>\n",
              "</table>\n",
              "</div>"
            ],
            "text/plain": [
              "                                                             preview\n",
              "model name            Google Colab - Python binary classificationnew\n",
              "model description                                                   \n",
              "create date                              2021-12-15T14:33:30.306000Z\n",
              "deployment id                               61b9fcba9c4f384b9cf4f5b9\n",
              "approval status                                             APPROVED\n",
              "importance                                                      None\n",
              "owners             [{'id': '5f6b61165c439d2e6e6d10c3', 'firstName..."
            ]
          },
          "metadata": {},
          "execution_count": 18
        }
      ]
    },
    {
      "cell_type": "markdown",
      "metadata": {
        "id": "FHfeNthn7LZ4"
      },
      "source": [
        "## Original Scoring Pipepline"
      ]
    },
    {
      "cell_type": "code",
      "metadata": {
        "colab": {
          "base_uri": "https://localhost:8080/"
        },
        "id": "unq1QGgx7Ohx",
        "outputId": "3f10282c-48ff-40e7-a3d0-84b0f451267d"
      },
      "source": [
        "model = pd.read_pickle(\"/content/agents-plus-challengers/remote-model/artifact.pkl\")\n",
        "predictions = model.predict_proba(sampled_df.drop([target, \"AssociationID\"], axis=1)).values.tolist()\n",
        "predictions[0:5]"
      ],
      "execution_count": 19,
      "outputs": [
        {
          "output_type": "stream",
          "name": "stderr",
          "text": [
            "/usr/local/lib/python3.7/dist-packages/sklearn/base.py:439: UserWarning: X has feature names, but SimpleImputer was fitted without feature names\n",
            "  f\"X has feature names, but {self.__class__.__name__} was fitted without\"\n"
          ]
        },
        {
          "output_type": "execute_result",
          "data": {
            "text/plain": [
              "[[0.993935910819661, 0.006064089180338972],\n",
              " [0.6715751461951487, 0.3284248538048513],\n",
              " [0.9817904103020143, 0.01820958969798564],\n",
              " [0.9230363252091739, 0.07696367479082611],\n",
              " [0.5536388096636268, 0.4463611903363732]]"
            ]
          },
          "metadata": {},
          "execution_count": 19
        }
      ]
    },
    {
      "cell_type": "markdown",
      "metadata": {
        "id": "kifk-w__4te8"
      },
      "source": [
        "## Modified Scoring Pipeline"
      ]
    },
    {
      "cell_type": "code",
      "metadata": {
        "id": "GF4lkf8Az8AO",
        "colab": {
          "base_uri": "https://localhost:8080/"
        },
        "outputId": "58ca724c-edda-404e-8bc0-278f4c5b0db8"
      },
      "source": [
        "from datarobot.mlops.mlops import MLOps\n",
        "# setting environment variables \n",
        "os.environ[\"MLOPS_DEPLOYMENT_ID\"]= DEPLOYMENT_ID\n",
        "os.environ[\"MLOPS_MODEL_ID\"]= MODEL_ID\n",
        "os.environ[\"MLOPS_SPOOLER_TYPE\"]= \"FILESYSTEM\"\n",
        "os.environ[\"MLOPS_FILESYSTEM_DIRECTORY\"]= \"/tmp/ta\"\n",
        "# init mlops client\n",
        "mlops = MLOps().init()\n",
        "# Load model\n",
        "model = pd.read_pickle(\"/content/agents-plus-challengers/remote-model/artifact.pkl\")\n",
        "# start timeing\n",
        "start_time = time.time()\n",
        "############## original scoring pipeline ##############\n",
        "predictions = model.predict_proba(sampled_df.drop([target, \"AssociationID\"],axis=1)).values.tolist()\n",
        "#######################################################\n",
        "# end timer\n",
        "end_time = time.time()\n",
        "# number of predictions\n",
        "num_predictions = len(predictions)\n",
        "# report stats\n",
        "mlops.report_deployment_stats(num_predictions, end_time - start_time)\n",
        "# report the predictions data: features, predictions\n",
        "mlops.report_predictions_data(features_df=sampled_df.drop([target], axis=1), \n",
        "                                predictions=predictions, class_names = [\"0\", \"1\"])\n",
        "# shutdown python client.  Java service is still running\n",
        "mlops.shutdown()"
      ],
      "execution_count": 20,
      "outputs": [
        {
          "output_type": "stream",
          "name": "stderr",
          "text": [
            "/usr/local/lib/python3.7/dist-packages/sklearn/base.py:439: UserWarning: X has feature names, but SimpleImputer was fitted without feature names\n",
            "  f\"X has feature names, but {self.__class__.__name__} was fitted without\"\n"
          ]
        }
      ]
    },
    {
      "cell_type": "code",
      "metadata": {
        "colab": {
          "base_uri": "https://localhost:8080/"
        },
        "id": "IhvjwUg2v0cc",
        "outputId": "184f7ee6-c371-4761-8cda-f4c03007a6c3"
      },
      "source": [
        "check = subprocess.Popen([\"{}/bin/status-agent.sh\".format(agents_dir)], stdout=subprocess.PIPE)\n",
        "print(check.stdout.readlines())\n",
        "check.terminate()"
      ],
      "execution_count": 21,
      "outputs": [
        {
          "output_type": "stream",
          "name": "stdout",
          "text": [
            "[b'DataRobot MLOps-Agent is running as a service.\\n']\n"
          ]
        }
      ]
    },
    {
      "cell_type": "markdown",
      "metadata": {
        "id": "ZCSpEWrW4qlQ"
      },
      "source": [
        "## Submitting Actuals"
      ]
    },
    {
      "cell_type": "code",
      "metadata": {
        "id": "UuDT-3fxx7vm"
      },
      "source": [
        "actuals_for_submission = sampled_df[[target, \"AssociationID\"]].rename(columns = {target: \"actual_value\", \"AssociationID\": \"association_id\"})\n",
        "deployment.submit_actuals(actuals_for_submission)"
      ],
      "execution_count": 22,
      "outputs": []
    },
    {
      "cell_type": "code",
      "metadata": {
        "id": "6dULhRARj6YU",
        "colab": {
          "base_uri": "https://localhost:8080/"
        },
        "outputId": "daa96561-0673-4d64-fbd6-fdfd4437ea24"
      },
      "source": [
        "print(\"https://app2.datarobot.com/deployments/{}/overview\".format(os.environ[\"MLOPS_DEPLOYMENT_ID\"]))"
      ],
      "execution_count": 23,
      "outputs": [
        {
          "output_type": "stream",
          "name": "stdout",
          "text": [
            "https://app2.datarobot.com/deployments/61b9fcba9c4f384b9cf4f5b9/overview\n"
          ]
        }
      ]
    },
    {
      "cell_type": "code",
      "metadata": {
        "colab": {
          "base_uri": "https://localhost:8080/",
          "height": 394
        },
        "id": "8dbUCW8myQtz",
        "outputId": "4c51846a-521e-4d05-e37a-1d38d2dcaffc"
      },
      "source": [
        "service_stats = deployment.get_service_stats()\n",
        "service_stats.metrics\n",
        "pd.DataFrame([service_stats.metrics]).T"
      ],
      "execution_count": 24,
      "outputs": [
        {
          "output_type": "execute_result",
          "data": {
            "text/html": [
              "<div>\n",
              "<style scoped>\n",
              "    .dataframe tbody tr th:only-of-type {\n",
              "        vertical-align: middle;\n",
              "    }\n",
              "\n",
              "    .dataframe tbody tr th {\n",
              "        vertical-align: top;\n",
              "    }\n",
              "\n",
              "    .dataframe thead th {\n",
              "        text-align: right;\n",
              "    }\n",
              "</style>\n",
              "<table border=\"1\" class=\"dataframe\">\n",
              "  <thead>\n",
              "    <tr style=\"text-align: right;\">\n",
              "      <th></th>\n",
              "      <th>0</th>\n",
              "    </tr>\n",
              "  </thead>\n",
              "  <tbody>\n",
              "    <tr>\n",
              "      <th>totalPredictions</th>\n",
              "      <td>619.000000</td>\n",
              "    </tr>\n",
              "    <tr>\n",
              "      <th>totalRequests</th>\n",
              "      <td>1.000000</td>\n",
              "    </tr>\n",
              "    <tr>\n",
              "      <th>slowRequests</th>\n",
              "      <td>0.000000</td>\n",
              "    </tr>\n",
              "    <tr>\n",
              "      <th>executionTime</th>\n",
              "      <td>0.014383</td>\n",
              "    </tr>\n",
              "    <tr>\n",
              "      <th>responseTime</th>\n",
              "      <td>0.000000</td>\n",
              "    </tr>\n",
              "    <tr>\n",
              "      <th>userErrorRate</th>\n",
              "      <td>0.000000</td>\n",
              "    </tr>\n",
              "    <tr>\n",
              "      <th>serverErrorRate</th>\n",
              "      <td>0.000000</td>\n",
              "    </tr>\n",
              "    <tr>\n",
              "      <th>numConsumers</th>\n",
              "      <td>1.000000</td>\n",
              "    </tr>\n",
              "    <tr>\n",
              "      <th>cacheHitRatio</th>\n",
              "      <td>0.000000</td>\n",
              "    </tr>\n",
              "    <tr>\n",
              "      <th>medianLoad</th>\n",
              "      <td>0.000000</td>\n",
              "    </tr>\n",
              "    <tr>\n",
              "      <th>peakLoad</th>\n",
              "      <td>1.000000</td>\n",
              "    </tr>\n",
              "  </tbody>\n",
              "</table>\n",
              "</div>"
            ],
            "text/plain": [
              "                           0\n",
              "totalPredictions  619.000000\n",
              "totalRequests       1.000000\n",
              "slowRequests        0.000000\n",
              "executionTime       0.014383\n",
              "responseTime        0.000000\n",
              "userErrorRate       0.000000\n",
              "serverErrorRate     0.000000\n",
              "numConsumers        1.000000\n",
              "cacheHitRatio       0.000000\n",
              "medianLoad          0.000000\n",
              "peakLoad            1.000000"
            ]
          },
          "metadata": {},
          "execution_count": 24
        }
      ]
    },
    {
      "cell_type": "markdown",
      "metadata": {
        "id": "BEXZW8hC3VLY"
      },
      "source": [
        "## Retrieve Accuracy metrics"
      ]
    },
    {
      "cell_type": "code",
      "metadata": {
        "colab": {
          "base_uri": "https://localhost:8080/",
          "height": 457
        },
        "id": "tDWG3n24yXTy",
        "outputId": "0a473d0f-8e41-44d6-e3eb-01303e3e89e1"
      },
      "source": [
        "accuracy = deployment.get_accuracy_over_time()\n",
        "metrics = ['AUC', 'FVE Binomial', 'Gini Norm', 'Kolmogorov-Smirnov', 'LogLoss', 'MCC', 'PPV', 'NPV', 'TPR', 'FPR', 'F1','Rate@Top10%', 'Rate@Top5%']\n",
        "metrics_ls = []\n",
        "for metric in metrics:\n",
        "    m = deployment.get_accuracy_over_time(metric = metric)\n",
        "    start = m.summary[\"period\"][\"start\"]\n",
        "    end = m.summary[\"period\"][\"end\"]\n",
        "    temp = [metric, m.baseline[\"value\"], m.summary[\"value\"], start, end, m.summary[\"sample_size\"]]\n",
        "    metrics_ls.append(temp)     \n",
        "metrics_df = pd.DataFrame(metrics_ls, columns = [\"metric\", \"baseline\", \"value\", \"start\", \"end\", \"n\"])\n",
        "metrics_df"
      ],
      "execution_count": 25,
      "outputs": [
        {
          "output_type": "execute_result",
          "data": {
            "text/html": [
              "<div>\n",
              "<style scoped>\n",
              "    .dataframe tbody tr th:only-of-type {\n",
              "        vertical-align: middle;\n",
              "    }\n",
              "\n",
              "    .dataframe tbody tr th {\n",
              "        vertical-align: top;\n",
              "    }\n",
              "\n",
              "    .dataframe thead th {\n",
              "        text-align: right;\n",
              "    }\n",
              "</style>\n",
              "<table border=\"1\" class=\"dataframe\">\n",
              "  <thead>\n",
              "    <tr style=\"text-align: right;\">\n",
              "      <th></th>\n",
              "      <th>metric</th>\n",
              "      <th>baseline</th>\n",
              "      <th>value</th>\n",
              "      <th>start</th>\n",
              "      <th>end</th>\n",
              "      <th>n</th>\n",
              "    </tr>\n",
              "  </thead>\n",
              "  <tbody>\n",
              "    <tr>\n",
              "      <th>0</th>\n",
              "      <td>AUC</td>\n",
              "      <td>None</td>\n",
              "      <td>None</td>\n",
              "      <td>2021-12-08 15:00:00+00:00</td>\n",
              "      <td>2021-12-15 15:00:00+00:00</td>\n",
              "      <td>None</td>\n",
              "    </tr>\n",
              "    <tr>\n",
              "      <th>1</th>\n",
              "      <td>FVE Binomial</td>\n",
              "      <td>None</td>\n",
              "      <td>None</td>\n",
              "      <td>2021-12-08 15:00:00+00:00</td>\n",
              "      <td>2021-12-15 15:00:00+00:00</td>\n",
              "      <td>None</td>\n",
              "    </tr>\n",
              "    <tr>\n",
              "      <th>2</th>\n",
              "      <td>Gini Norm</td>\n",
              "      <td>None</td>\n",
              "      <td>None</td>\n",
              "      <td>2021-12-08 15:00:00+00:00</td>\n",
              "      <td>2021-12-15 15:00:00+00:00</td>\n",
              "      <td>None</td>\n",
              "    </tr>\n",
              "    <tr>\n",
              "      <th>3</th>\n",
              "      <td>Kolmogorov-Smirnov</td>\n",
              "      <td>None</td>\n",
              "      <td>None</td>\n",
              "      <td>2021-12-08 15:00:00+00:00</td>\n",
              "      <td>2021-12-15 15:00:00+00:00</td>\n",
              "      <td>None</td>\n",
              "    </tr>\n",
              "    <tr>\n",
              "      <th>4</th>\n",
              "      <td>LogLoss</td>\n",
              "      <td>None</td>\n",
              "      <td>None</td>\n",
              "      <td>2021-12-08 15:00:00+00:00</td>\n",
              "      <td>2021-12-15 15:00:00+00:00</td>\n",
              "      <td>None</td>\n",
              "    </tr>\n",
              "    <tr>\n",
              "      <th>5</th>\n",
              "      <td>MCC</td>\n",
              "      <td>None</td>\n",
              "      <td>None</td>\n",
              "      <td>2021-12-08 15:00:00+00:00</td>\n",
              "      <td>2021-12-15 15:00:00+00:00</td>\n",
              "      <td>None</td>\n",
              "    </tr>\n",
              "    <tr>\n",
              "      <th>6</th>\n",
              "      <td>PPV</td>\n",
              "      <td>None</td>\n",
              "      <td>None</td>\n",
              "      <td>2021-12-08 15:00:00+00:00</td>\n",
              "      <td>2021-12-15 15:00:00+00:00</td>\n",
              "      <td>None</td>\n",
              "    </tr>\n",
              "    <tr>\n",
              "      <th>7</th>\n",
              "      <td>NPV</td>\n",
              "      <td>None</td>\n",
              "      <td>None</td>\n",
              "      <td>2021-12-08 15:00:00+00:00</td>\n",
              "      <td>2021-12-15 15:00:00+00:00</td>\n",
              "      <td>None</td>\n",
              "    </tr>\n",
              "    <tr>\n",
              "      <th>8</th>\n",
              "      <td>TPR</td>\n",
              "      <td>None</td>\n",
              "      <td>None</td>\n",
              "      <td>2021-12-08 15:00:00+00:00</td>\n",
              "      <td>2021-12-15 15:00:00+00:00</td>\n",
              "      <td>None</td>\n",
              "    </tr>\n",
              "    <tr>\n",
              "      <th>9</th>\n",
              "      <td>FPR</td>\n",
              "      <td>None</td>\n",
              "      <td>None</td>\n",
              "      <td>2021-12-08 15:00:00+00:00</td>\n",
              "      <td>2021-12-15 15:00:00+00:00</td>\n",
              "      <td>None</td>\n",
              "    </tr>\n",
              "    <tr>\n",
              "      <th>10</th>\n",
              "      <td>F1</td>\n",
              "      <td>None</td>\n",
              "      <td>None</td>\n",
              "      <td>2021-12-08 15:00:00+00:00</td>\n",
              "      <td>2021-12-15 15:00:00+00:00</td>\n",
              "      <td>None</td>\n",
              "    </tr>\n",
              "    <tr>\n",
              "      <th>11</th>\n",
              "      <td>Rate@Top10%</td>\n",
              "      <td>None</td>\n",
              "      <td>None</td>\n",
              "      <td>2021-12-08 15:00:00+00:00</td>\n",
              "      <td>2021-12-15 15:00:00+00:00</td>\n",
              "      <td>None</td>\n",
              "    </tr>\n",
              "    <tr>\n",
              "      <th>12</th>\n",
              "      <td>Rate@Top5%</td>\n",
              "      <td>None</td>\n",
              "      <td>None</td>\n",
              "      <td>2021-12-08 15:00:00+00:00</td>\n",
              "      <td>2021-12-15 15:00:00+00:00</td>\n",
              "      <td>None</td>\n",
              "    </tr>\n",
              "  </tbody>\n",
              "</table>\n",
              "</div>"
            ],
            "text/plain": [
              "                metric baseline  ...                       end     n\n",
              "0                  AUC     None  ... 2021-12-15 15:00:00+00:00  None\n",
              "1         FVE Binomial     None  ... 2021-12-15 15:00:00+00:00  None\n",
              "2            Gini Norm     None  ... 2021-12-15 15:00:00+00:00  None\n",
              "3   Kolmogorov-Smirnov     None  ... 2021-12-15 15:00:00+00:00  None\n",
              "4              LogLoss     None  ... 2021-12-15 15:00:00+00:00  None\n",
              "5                  MCC     None  ... 2021-12-15 15:00:00+00:00  None\n",
              "6                  PPV     None  ... 2021-12-15 15:00:00+00:00  None\n",
              "7                  NPV     None  ... 2021-12-15 15:00:00+00:00  None\n",
              "8                  TPR     None  ... 2021-12-15 15:00:00+00:00  None\n",
              "9                  FPR     None  ... 2021-12-15 15:00:00+00:00  None\n",
              "10                  F1     None  ... 2021-12-15 15:00:00+00:00  None\n",
              "11         Rate@Top10%     None  ... 2021-12-15 15:00:00+00:00  None\n",
              "12          Rate@Top5%     None  ... 2021-12-15 15:00:00+00:00  None\n",
              "\n",
              "[13 rows x 6 columns]"
            ]
          },
          "metadata": {},
          "execution_count": 25
        }
      ]
    },
    {
      "cell_type": "markdown",
      "metadata": {
        "id": "3PLhLDLr3YfV"
      },
      "source": [
        "## Retrieve Drift Metrics"
      ]
    },
    {
      "cell_type": "code",
      "metadata": {
        "colab": {
          "base_uri": "https://localhost:8080/",
          "height": 802
        },
        "id": "H0pXSLrJyf8R",
        "outputId": "21694422-46d3-4df7-e9fa-1be6a97bd404"
      },
      "source": [
        "feature_drift = deployment.get_feature_drift()\n",
        "fd_ls = [[fd.name, fd.metric, fd.drift_score, fd.feature_impact, fd.period[\"start\"], fd.period[\"end\"]] for fd in feature_drift]\n",
        "drift_df = pd.DataFrame(fd_ls, columns = [\"feature\", \"drift_metric\", \"drift_score\", \"feature Importance\", \"start\", \"end\"])\n",
        "drift_df"
      ],
      "execution_count": 26,
      "outputs": [
        {
          "output_type": "execute_result",
          "data": {
            "text/html": [
              "<div>\n",
              "<style scoped>\n",
              "    .dataframe tbody tr th:only-of-type {\n",
              "        vertical-align: middle;\n",
              "    }\n",
              "\n",
              "    .dataframe tbody tr th {\n",
              "        vertical-align: top;\n",
              "    }\n",
              "\n",
              "    .dataframe thead th {\n",
              "        text-align: right;\n",
              "    }\n",
              "</style>\n",
              "<table border=\"1\" class=\"dataframe\">\n",
              "  <thead>\n",
              "    <tr style=\"text-align: right;\">\n",
              "      <th></th>\n",
              "      <th>feature</th>\n",
              "      <th>drift_metric</th>\n",
              "      <th>drift_score</th>\n",
              "      <th>feature Importance</th>\n",
              "      <th>start</th>\n",
              "      <th>end</th>\n",
              "    </tr>\n",
              "  </thead>\n",
              "  <tbody>\n",
              "    <tr>\n",
              "      <th>0</th>\n",
              "      <td>ID</td>\n",
              "      <td>psi</td>\n",
              "      <td>None</td>\n",
              "      <td>1.000000</td>\n",
              "      <td>2021-12-08 15:00:00+00:00</td>\n",
              "      <td>2021-12-15 15:00:00+00:00</td>\n",
              "    </tr>\n",
              "    <tr>\n",
              "      <th>1</th>\n",
              "      <td>Vendor</td>\n",
              "      <td>psi</td>\n",
              "      <td>None</td>\n",
              "      <td>0.603024</td>\n",
              "      <td>2021-12-08 15:00:00+00:00</td>\n",
              "      <td>2021-12-15 15:00:00+00:00</td>\n",
              "    </tr>\n",
              "    <tr>\n",
              "      <th>2</th>\n",
              "      <td>Vendor INCO Term</td>\n",
              "      <td>psi</td>\n",
              "      <td>None</td>\n",
              "      <td>0.447592</td>\n",
              "      <td>2021-12-08 15:00:00+00:00</td>\n",
              "      <td>2021-12-15 15:00:00+00:00</td>\n",
              "    </tr>\n",
              "    <tr>\n",
              "      <th>3</th>\n",
              "      <td>Fulfill Via</td>\n",
              "      <td>psi</td>\n",
              "      <td>None</td>\n",
              "      <td>0.424402</td>\n",
              "      <td>2021-12-08 15:00:00+00:00</td>\n",
              "      <td>2021-12-15 15:00:00+00:00</td>\n",
              "    </tr>\n",
              "    <tr>\n",
              "      <th>4</th>\n",
              "      <td>Item Description</td>\n",
              "      <td>psi</td>\n",
              "      <td>None</td>\n",
              "      <td>0.372512</td>\n",
              "      <td>2021-12-08 15:00:00+00:00</td>\n",
              "      <td>2021-12-15 15:00:00+00:00</td>\n",
              "    </tr>\n",
              "    <tr>\n",
              "      <th>5</th>\n",
              "      <td>Pack Price</td>\n",
              "      <td>psi</td>\n",
              "      <td>None</td>\n",
              "      <td>0.309771</td>\n",
              "      <td>2021-12-08 15:00:00+00:00</td>\n",
              "      <td>2021-12-15 15:00:00+00:00</td>\n",
              "    </tr>\n",
              "    <tr>\n",
              "      <th>6</th>\n",
              "      <td>Country</td>\n",
              "      <td>psi</td>\n",
              "      <td>None</td>\n",
              "      <td>0.270832</td>\n",
              "      <td>2021-12-08 15:00:00+00:00</td>\n",
              "      <td>2021-12-15 15:00:00+00:00</td>\n",
              "    </tr>\n",
              "    <tr>\n",
              "      <th>7</th>\n",
              "      <td>Manufacturing Site</td>\n",
              "      <td>psi</td>\n",
              "      <td>None</td>\n",
              "      <td>0.262858</td>\n",
              "      <td>2021-12-08 15:00:00+00:00</td>\n",
              "      <td>2021-12-15 15:00:00+00:00</td>\n",
              "    </tr>\n",
              "    <tr>\n",
              "      <th>8</th>\n",
              "      <td>Molecule/Test Type</td>\n",
              "      <td>psi</td>\n",
              "      <td>None</td>\n",
              "      <td>0.260338</td>\n",
              "      <td>2021-12-08 15:00:00+00:00</td>\n",
              "      <td>2021-12-15 15:00:00+00:00</td>\n",
              "    </tr>\n",
              "    <tr>\n",
              "      <th>9</th>\n",
              "      <td>Brand</td>\n",
              "      <td>psi</td>\n",
              "      <td>None</td>\n",
              "      <td>0.220255</td>\n",
              "      <td>2021-12-08 15:00:00+00:00</td>\n",
              "      <td>2021-12-15 15:00:00+00:00</td>\n",
              "    </tr>\n",
              "    <tr>\n",
              "      <th>10</th>\n",
              "      <td>Dosage</td>\n",
              "      <td>psi</td>\n",
              "      <td>None</td>\n",
              "      <td>0.214030</td>\n",
              "      <td>2021-12-08 15:00:00+00:00</td>\n",
              "      <td>2021-12-15 15:00:00+00:00</td>\n",
              "    </tr>\n",
              "    <tr>\n",
              "      <th>11</th>\n",
              "      <td>Unit Price</td>\n",
              "      <td>psi</td>\n",
              "      <td>None</td>\n",
              "      <td>0.170416</td>\n",
              "      <td>2021-12-08 15:00:00+00:00</td>\n",
              "      <td>2021-12-15 15:00:00+00:00</td>\n",
              "    </tr>\n",
              "    <tr>\n",
              "      <th>12</th>\n",
              "      <td>Line Item Quantity</td>\n",
              "      <td>psi</td>\n",
              "      <td>None</td>\n",
              "      <td>0.126288</td>\n",
              "      <td>2021-12-08 15:00:00+00:00</td>\n",
              "      <td>2021-12-15 15:00:00+00:00</td>\n",
              "    </tr>\n",
              "    <tr>\n",
              "      <th>13</th>\n",
              "      <td>Dosage Form</td>\n",
              "      <td>psi</td>\n",
              "      <td>None</td>\n",
              "      <td>0.115842</td>\n",
              "      <td>2021-12-08 15:00:00+00:00</td>\n",
              "      <td>2021-12-15 15:00:00+00:00</td>\n",
              "    </tr>\n",
              "    <tr>\n",
              "      <th>14</th>\n",
              "      <td>Unit of Measure (Per Pack)</td>\n",
              "      <td>psi</td>\n",
              "      <td>None</td>\n",
              "      <td>0.071979</td>\n",
              "      <td>2021-12-08 15:00:00+00:00</td>\n",
              "      <td>2021-12-15 15:00:00+00:00</td>\n",
              "    </tr>\n",
              "    <tr>\n",
              "      <th>15</th>\n",
              "      <td>Shipment Mode</td>\n",
              "      <td>psi</td>\n",
              "      <td>None</td>\n",
              "      <td>0.067552</td>\n",
              "      <td>2021-12-08 15:00:00+00:00</td>\n",
              "      <td>2021-12-15 15:00:00+00:00</td>\n",
              "    </tr>\n",
              "    <tr>\n",
              "      <th>16</th>\n",
              "      <td>Line Item Insurance (USD)</td>\n",
              "      <td>psi</td>\n",
              "      <td>None</td>\n",
              "      <td>0.047090</td>\n",
              "      <td>2021-12-08 15:00:00+00:00</td>\n",
              "      <td>2021-12-15 15:00:00+00:00</td>\n",
              "    </tr>\n",
              "    <tr>\n",
              "      <th>17</th>\n",
              "      <td>Product Group</td>\n",
              "      <td>psi</td>\n",
              "      <td>None</td>\n",
              "      <td>0.044839</td>\n",
              "      <td>2021-12-08 15:00:00+00:00</td>\n",
              "      <td>2021-12-15 15:00:00+00:00</td>\n",
              "    </tr>\n",
              "    <tr>\n",
              "      <th>18</th>\n",
              "      <td>Line Item Value</td>\n",
              "      <td>psi</td>\n",
              "      <td>None</td>\n",
              "      <td>0.035163</td>\n",
              "      <td>2021-12-08 15:00:00+00:00</td>\n",
              "      <td>2021-12-15 15:00:00+00:00</td>\n",
              "    </tr>\n",
              "    <tr>\n",
              "      <th>19</th>\n",
              "      <td>Weight (Kilograms)</td>\n",
              "      <td>psi</td>\n",
              "      <td>None</td>\n",
              "      <td>0.033314</td>\n",
              "      <td>2021-12-08 15:00:00+00:00</td>\n",
              "      <td>2021-12-15 15:00:00+00:00</td>\n",
              "    </tr>\n",
              "    <tr>\n",
              "      <th>20</th>\n",
              "      <td>Sub Classification</td>\n",
              "      <td>psi</td>\n",
              "      <td>None</td>\n",
              "      <td>0.032999</td>\n",
              "      <td>2021-12-08 15:00:00+00:00</td>\n",
              "      <td>2021-12-15 15:00:00+00:00</td>\n",
              "    </tr>\n",
              "    <tr>\n",
              "      <th>21</th>\n",
              "      <td>Freight Cost (USD)</td>\n",
              "      <td>psi</td>\n",
              "      <td>None</td>\n",
              "      <td>0.020251</td>\n",
              "      <td>2021-12-08 15:00:00+00:00</td>\n",
              "      <td>2021-12-15 15:00:00+00:00</td>\n",
              "    </tr>\n",
              "    <tr>\n",
              "      <th>22</th>\n",
              "      <td>First Line Designation</td>\n",
              "      <td>psi</td>\n",
              "      <td>None</td>\n",
              "      <td>0.000634</td>\n",
              "      <td>2021-12-08 15:00:00+00:00</td>\n",
              "      <td>2021-12-15 15:00:00+00:00</td>\n",
              "    </tr>\n",
              "    <tr>\n",
              "      <th>23</th>\n",
              "      <td>Managed By</td>\n",
              "      <td>psi</td>\n",
              "      <td>None</td>\n",
              "      <td>0.000000</td>\n",
              "      <td>2021-12-08 15:00:00+00:00</td>\n",
              "      <td>2021-12-15 15:00:00+00:00</td>\n",
              "    </tr>\n",
              "  </tbody>\n",
              "</table>\n",
              "</div>"
            ],
            "text/plain": [
              "                       feature  ...                       end\n",
              "0                           ID  ... 2021-12-15 15:00:00+00:00\n",
              "1                       Vendor  ... 2021-12-15 15:00:00+00:00\n",
              "2             Vendor INCO Term  ... 2021-12-15 15:00:00+00:00\n",
              "3                  Fulfill Via  ... 2021-12-15 15:00:00+00:00\n",
              "4             Item Description  ... 2021-12-15 15:00:00+00:00\n",
              "5                   Pack Price  ... 2021-12-15 15:00:00+00:00\n",
              "6                      Country  ... 2021-12-15 15:00:00+00:00\n",
              "7           Manufacturing Site  ... 2021-12-15 15:00:00+00:00\n",
              "8           Molecule/Test Type  ... 2021-12-15 15:00:00+00:00\n",
              "9                        Brand  ... 2021-12-15 15:00:00+00:00\n",
              "10                      Dosage  ... 2021-12-15 15:00:00+00:00\n",
              "11                  Unit Price  ... 2021-12-15 15:00:00+00:00\n",
              "12          Line Item Quantity  ... 2021-12-15 15:00:00+00:00\n",
              "13                 Dosage Form  ... 2021-12-15 15:00:00+00:00\n",
              "14  Unit of Measure (Per Pack)  ... 2021-12-15 15:00:00+00:00\n",
              "15               Shipment Mode  ... 2021-12-15 15:00:00+00:00\n",
              "16   Line Item Insurance (USD)  ... 2021-12-15 15:00:00+00:00\n",
              "17               Product Group  ... 2021-12-15 15:00:00+00:00\n",
              "18             Line Item Value  ... 2021-12-15 15:00:00+00:00\n",
              "19          Weight (Kilograms)  ... 2021-12-15 15:00:00+00:00\n",
              "20          Sub Classification  ... 2021-12-15 15:00:00+00:00\n",
              "21          Freight Cost (USD)  ... 2021-12-15 15:00:00+00:00\n",
              "22      First Line Designation  ... 2021-12-15 15:00:00+00:00\n",
              "23                  Managed By  ... 2021-12-15 15:00:00+00:00\n",
              "\n",
              "[24 rows x 6 columns]"
            ]
          },
          "metadata": {},
          "execution_count": 26
        }
      ]
    },
    {
      "cell_type": "code",
      "source": [
        ""
      ],
      "metadata": {
        "id": "xM2mFtP7rCQw"
      },
      "execution_count": null,
      "outputs": []
    }
  ]
}